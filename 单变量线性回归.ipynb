{
 "cells": [
  {
   "cell_type": "code",
   "execution_count": 1,
   "metadata": {},
   "outputs": [
    {
     "name": "stderr",
     "output_type": "stream",
     "text": [
      "/Users/changchang/dl/env/lib/python3.7/site-packages/tensorflow/python/framework/dtypes.py:516: FutureWarning: Passing (type, 1) or '1type' as a synonym of type is deprecated; in a future version of numpy, it will be understood as (type, (1,)) / '(1,)type'.\n",
      "  _np_qint8 = np.dtype([(\"qint8\", np.int8, 1)])\n",
      "/Users/changchang/dl/env/lib/python3.7/site-packages/tensorflow/python/framework/dtypes.py:517: FutureWarning: Passing (type, 1) or '1type' as a synonym of type is deprecated; in a future version of numpy, it will be understood as (type, (1,)) / '(1,)type'.\n",
      "  _np_quint8 = np.dtype([(\"quint8\", np.uint8, 1)])\n",
      "/Users/changchang/dl/env/lib/python3.7/site-packages/tensorflow/python/framework/dtypes.py:518: FutureWarning: Passing (type, 1) or '1type' as a synonym of type is deprecated; in a future version of numpy, it will be understood as (type, (1,)) / '(1,)type'.\n",
      "  _np_qint16 = np.dtype([(\"qint16\", np.int16, 1)])\n",
      "/Users/changchang/dl/env/lib/python3.7/site-packages/tensorflow/python/framework/dtypes.py:519: FutureWarning: Passing (type, 1) or '1type' as a synonym of type is deprecated; in a future version of numpy, it will be understood as (type, (1,)) / '(1,)type'.\n",
      "  _np_quint16 = np.dtype([(\"quint16\", np.uint16, 1)])\n",
      "/Users/changchang/dl/env/lib/python3.7/site-packages/tensorflow/python/framework/dtypes.py:520: FutureWarning: Passing (type, 1) or '1type' as a synonym of type is deprecated; in a future version of numpy, it will be understood as (type, (1,)) / '(1,)type'.\n",
      "  _np_qint32 = np.dtype([(\"qint32\", np.int32, 1)])\n",
      "/Users/changchang/dl/env/lib/python3.7/site-packages/tensorflow/python/framework/dtypes.py:525: FutureWarning: Passing (type, 1) or '1type' as a synonym of type is deprecated; in a future version of numpy, it will be understood as (type, (1,)) / '(1,)type'.\n",
      "  np_resource = np.dtype([(\"resource\", np.ubyte, 1)])\n",
      "/Users/changchang/dl/env/lib/python3.7/site-packages/tensorboard/compat/tensorflow_stub/dtypes.py:541: FutureWarning: Passing (type, 1) or '1type' as a synonym of type is deprecated; in a future version of numpy, it will be understood as (type, (1,)) / '(1,)type'.\n",
      "  _np_qint8 = np.dtype([(\"qint8\", np.int8, 1)])\n",
      "/Users/changchang/dl/env/lib/python3.7/site-packages/tensorboard/compat/tensorflow_stub/dtypes.py:542: FutureWarning: Passing (type, 1) or '1type' as a synonym of type is deprecated; in a future version of numpy, it will be understood as (type, (1,)) / '(1,)type'.\n",
      "  _np_quint8 = np.dtype([(\"quint8\", np.uint8, 1)])\n",
      "/Users/changchang/dl/env/lib/python3.7/site-packages/tensorboard/compat/tensorflow_stub/dtypes.py:543: FutureWarning: Passing (type, 1) or '1type' as a synonym of type is deprecated; in a future version of numpy, it will be understood as (type, (1,)) / '(1,)type'.\n",
      "  _np_qint16 = np.dtype([(\"qint16\", np.int16, 1)])\n",
      "/Users/changchang/dl/env/lib/python3.7/site-packages/tensorboard/compat/tensorflow_stub/dtypes.py:544: FutureWarning: Passing (type, 1) or '1type' as a synonym of type is deprecated; in a future version of numpy, it will be understood as (type, (1,)) / '(1,)type'.\n",
      "  _np_quint16 = np.dtype([(\"quint16\", np.uint16, 1)])\n",
      "/Users/changchang/dl/env/lib/python3.7/site-packages/tensorboard/compat/tensorflow_stub/dtypes.py:545: FutureWarning: Passing (type, 1) or '1type' as a synonym of type is deprecated; in a future version of numpy, it will be understood as (type, (1,)) / '(1,)type'.\n",
      "  _np_qint32 = np.dtype([(\"qint32\", np.int32, 1)])\n",
      "/Users/changchang/dl/env/lib/python3.7/site-packages/tensorboard/compat/tensorflow_stub/dtypes.py:550: FutureWarning: Passing (type, 1) or '1type' as a synonym of type is deprecated; in a future version of numpy, it will be understood as (type, (1,)) / '(1,)type'.\n",
      "  np_resource = np.dtype([(\"resource\", np.ubyte, 1)])\n"
     ]
    }
   ],
   "source": [
    "# 在Jupyter中，使用matplotlib显示图像需要设置为 inline 模式，否则不会显示图像\n",
    "%matplotlib inline\n",
    "\n",
    "import matplotlib.pyplot as plt # 载入matplotlib\n",
    "import numpy as np # 载入numpy\n",
    "import tensorflow as tf # 载入Tensorflow\n",
    "\n",
    "# 设置随机数种子\n",
    "np.random.seed(5)"
   ]
  },
  {
   "cell_type": "code",
   "execution_count": 2,
   "metadata": {},
   "outputs": [],
   "source": [
    "# 直接采用np生成等差数列的方法，生成100个点，每个点的取值在-1～1之间\n",
    "x_data = np.linspace(-1, 1, 100)\n",
    "\n",
    "# y = 2x + 1 + 噪声，其中，噪声的维度与x_data一致\n",
    "y_data = 2 * x_data + 1.0 + np.random.randn(*x_data.shape) * 0.4"
   ]
  },
  {
   "cell_type": "code",
   "execution_count": 3,
   "metadata": {},
   "outputs": [
    {
     "data": {
      "text/plain": [
       "array([ 0.79242262,  0.17076445, -1.75374086,  0.63029648,  0.49832921,\n",
       "        1.01813761, -0.84646862,  2.52080763, -1.23238611,  0.72695326])"
      ]
     },
     "execution_count": 3,
     "metadata": {},
     "output_type": "execute_result"
    }
   ],
   "source": [
    "# numpy.random.randn(d0, d1, ... , dn) 是从标准正态分布中返回一个或多个样本值\n",
    "# 标准正态分布又称为u分布， 是以0为均值， 以1 为标准差的正态分布， 记为N(0,1)\n",
    "\n",
    "np.random.randn(10)"
   ]
  },
  {
   "cell_type": "code",
   "execution_count": 4,
   "metadata": {},
   "outputs": [
    {
     "data": {
      "text/plain": [
       "(100,)"
      ]
     },
     "execution_count": 4,
     "metadata": {},
     "output_type": "execute_result"
    }
   ],
   "source": [
    "# x_data.shape值为一个元组\n",
    "x_data.shape"
   ]
  },
  {
   "cell_type": "code",
   "execution_count": 5,
   "metadata": {},
   "outputs": [
    {
     "data": {
      "text/plain": [
       "array([ 0.04595522, -0.48713265,  0.81613236, -0.28143012, -2.33562182,\n",
       "       -1.16727845,  0.45765807,  2.23796561, -1.4812592 , -0.01694532,\n",
       "        1.45073354,  0.60687032, -0.37562084, -1.42192455, -1.7811513 ,\n",
       "       -0.74790579, -0.36840953, -2.24911813, -1.69367504,  0.30364847,\n",
       "       -0.40899234, -0.75483059, -0.40751917, -0.81262476,  0.92751621,\n",
       "        1.63995407,  2.07361553,  0.70979786,  0.74715259,  1.46309548,\n",
       "        1.73844881,  1.46520488,  1.21228341, -0.6346525 , -1.5996985 ,\n",
       "        0.87715281, -0.09383245, -0.05567103, -0.88942073, -1.30095145,\n",
       "        1.40216662,  0.46510099, -1.06503262,  0.39042061,  0.30560017,\n",
       "        0.52184949,  2.23327081, -0.0347021 , -1.27962318,  0.03654264,\n",
       "       -0.64635659,  0.54856784,  0.21054246,  0.34650175, -0.56705117,\n",
       "        0.41367881, -0.51025606,  0.51725935, -0.30100513, -1.11840643,\n",
       "        0.49852362, -0.70609387,  1.4438811 ,  0.44295626,  0.46770521,\n",
       "        0.10134479, -0.05935198, -2.38669774,  1.22217056, -0.81391201,\n",
       "        0.95626186, -0.63851056, -0.14312642, -0.22418983, -1.03849524,\n",
       "       -0.17170905,  0.47634618, -0.41417827, -1.26408334, -0.57321556,\n",
       "        0.24981732,  1.14720208,  0.83594396,  0.28740365, -0.9955963 ,\n",
       "        0.90688947,  0.02421074, -0.23998173,  0.91011056,  0.61784475,\n",
       "        0.49961804, -1.15154425, -0.6105164 , -1.70388541,  0.19443738,\n",
       "        0.02824125,  0.93256051,  0.21204332, -0.36794457,  2.1114884 ])"
      ]
     },
     "execution_count": 5,
     "metadata": {},
     "output_type": "execute_result"
    }
   ],
   "source": [
    "# 实参的前面加上* 和** 时，就意味着拆包，单个*表示将元组拆成一个个单独的实参\n",
    "np.random.randn(*x_data.shape)"
   ]
  },
  {
   "cell_type": "code",
   "execution_count": 6,
   "metadata": {},
   "outputs": [
    {
     "data": {
      "text/plain": [
       "array([-1.02957349, -1.33628031, -0.61056736,  0.52469426, -0.34930813,\n",
       "       -0.44073846, -1.1212876 ,  1.47284473, -0.62337224, -1.08070195,\n",
       "       -0.12253009, -0.8077431 , -0.23255622,  1.33515034, -0.44645673,\n",
       "       -0.04978868, -0.36854478, -0.19173957,  0.81967992,  0.53163372,\n",
       "       -0.34161504, -0.93090048, -0.13421699,  0.83259361, -0.01735327,\n",
       "       -0.12765822, -1.80791662,  0.99396898, -1.49112886, -1.28210748,\n",
       "       -0.37570741,  0.03464388,  0.04507816, -0.76374689, -0.31313851,\n",
       "       -0.60698954, -1.80955123, -0.25551774, -0.69379935,  0.41919776,\n",
       "       -0.14520019,  0.9638013 ,  0.69622199,  0.89940546,  1.20837807,\n",
       "        0.6932537 , -0.16636061,  1.35311311, -0.92862651, -0.03547249,\n",
       "        0.85964595, -0.28749661,  0.71494995, -0.8034526 , -0.54048196,\n",
       "        0.54617743,  0.71188926,  1.19715449, -0.07006703,  0.29822712,\n",
       "        0.62619261,  0.46743206, -1.30262143, -0.57008965,  1.44295001,\n",
       "       -1.24399513,  0.62888033, -0.42559213,  1.00320956, -0.77817761,\n",
       "        0.04894463, -2.02640189, -0.04193635,  1.07454278, -1.5008594 ,\n",
       "        1.18574443, -0.71508124, -0.05123853, -2.77458336,  1.07862813,\n",
       "       -0.87568592, -0.53810932, -1.2782157 , -0.99276945,  1.14342789,\n",
       "       -0.5090726 ,  0.89500094, -0.17620337,  0.34608347, -0.50631013,\n",
       "        0.42716402,  2.58856959,  0.65289301,  0.50583979, -0.47595083,\n",
       "        1.01090874,  1.35920097, -1.70208997, -1.38033223,  2.10177668])"
      ]
     },
     "execution_count": 6,
     "metadata": {},
     "output_type": "execute_result"
    }
   ],
   "source": [
    "# 本例中， np.random.randn(*x_data.shape) 和 np.random.randn(100) 功能相同\n",
    "\n",
    "np.random.randn(100)"
   ]
  },
  {
   "cell_type": "code",
   "execution_count": 7,
   "metadata": {},
   "outputs": [],
   "source": [
    "y_data = 2 * x_data + 1.0 + np.random.randn(100) * 0.4 # y = 2x +1 + 噪声：其中，噪声的"
   ]
  },
  {
   "cell_type": "markdown",
   "metadata": {},
   "source": [
    "## Jupyter使用小技巧\n",
    "可以使用Tab键进行代码补齐"
   ]
  },
  {
   "cell_type": "code",
   "execution_count": 8,
   "metadata": {},
   "outputs": [
    {
     "data": {
      "text/plain": [
       "[<matplotlib.lines.Line2D at 0x135e44810>]"
      ]
     },
     "execution_count": 8,
     "metadata": {},
     "output_type": "execute_result"
    },
    {
     "data": {
      "image/png": "[encoded data removed]",
      "text/plain": [
       "<Figure size 432x288 with 1 Axes>"
      ]
     },
     "metadata": {
      "needs_background": "light"
     },
     "output_type": "display_data"
    }
   ],
   "source": [
    "# 画出随机生成数据的散点图\n",
    "plt.scatter(x_data, y_data)\n",
    "\n",
    "# 画出我们想要学习到的线性函数 y = 2x +1\n",
    "plt.plot(x_data, 2 * x_data + 1.0, color='red', linewidth=3)"
   ]
  },
  {
   "cell_type": "code",
   "execution_count": 9,
   "metadata": {},
   "outputs": [
    {
     "name": "stdout",
     "output_type": "stream",
     "text": [
      "Help on function plot in module matplotlib.pyplot:\n",
      "\n",
      "plot(*args, scalex=True, scaley=True, data=None, **kwargs)\n",
      "    Plot y versus x as lines and/or markers.\n",
      "    \n",
      "    Call signatures::\n",
      "    \n",
      "        plot([x], y, [fmt], *, data=None, **kwargs)\n",
      "        plot([x], y, [fmt], [x2], y2, [fmt2], ..., **kwargs)\n",
      "    \n",
      "    The coordinates of the points or line nodes are given by *x*, *y*.\n",
      "    \n",
      "    The optional parameter *fmt* is a convenient way for defining basic\n",
      "    formatting like color, marker and linestyle. It's a shortcut string\n",
      "    notation described in the *Notes* section below.\n",
      "    \n",
      "    >>> plot(x, y)        # plot x and y using default line style and color\n",
      "    >>> plot(x, y, 'bo')  # plot x and y using blue circle markers\n",
      "    >>> plot(y)           # plot y using x as index array 0..N-1\n",
      "    >>> plot(y, 'r+')     # ditto, but with red plusses\n",
      "    \n",
      "    You can use `.Line2D` properties as keyword arguments for more\n",
      "    control on the appearance. Line properties and *fmt* can be mixed.\n",
      "    The following two calls yield identical results:\n",
      "    \n",
      "    >>> plot(x, y, 'go--', linewidth=2, markersize=12)\n",
      "    >>> plot(x, y, color='green', marker='o', linestyle='dashed',\n",
      "    ...      linewidth=2, markersize=12)\n",
      "    \n",
      "    When conflicting with *fmt*, keyword arguments take precedence.\n",
      "    \n",
      "    \n",
      "    **Plotting labelled data**\n",
      "    \n",
      "    There's a convenient way for plotting objects with labelled data (i.e.\n",
      "    data that can be accessed by index ``obj['y']``). Instead of giving\n",
      "    the data in *x* and *y*, you can provide the object in the *data*\n",
      "    parameter and just give the labels for *x* and *y*::\n",
      "    \n",
      "    >>> plot('xlabel', 'ylabel', data=obj)\n",
      "    \n",
      "    All indexable objects are supported. This could e.g. be a `dict`, a\n",
      "    `pandas.DataFame` or a structured numpy array.\n",
      "    \n",
      "    \n",
      "    **Plotting multiple sets of data**\n",
      "    \n",
      "    There are various ways to plot multiple sets of data.\n",
      "    \n",
      "    - The most straight forward way is just to call `plot` multiple times.\n",
      "      Example:\n",
      "    \n",
      "      >>> plot(x1, y1, 'bo')\n",
      "      >>> plot(x2, y2, 'go')\n",
      "    \n",
      "    - Alternatively, if your data is already a 2d array, you can pass it\n",
      "      directly to *x*, *y*. A separate data set will be drawn for every\n",
      "      column.\n",
      "    \n",
      "      Example: an array ``a`` where the first column represents the *x*\n",
      "      values and the other columns are the *y* columns::\n",
      "    \n",
      "      >>> plot(a[0], a[1:])\n",
      "    \n",
      "    - The third way is to specify multiple sets of *[x]*, *y*, *[fmt]*\n",
      "      groups::\n",
      "    \n",
      "      >>> plot(x1, y1, 'g^', x2, y2, 'g-')\n",
      "    \n",
      "      In this case, any additional keyword argument applies to all\n",
      "      datasets. Also this syntax cannot be combined with the *data*\n",
      "      parameter.\n",
      "    \n",
      "    By default, each line is assigned a different style specified by a\n",
      "    'style cycle'. The *fmt* and line property parameters are only\n",
      "    necessary if you want explicit deviations from these defaults.\n",
      "    Alternatively, you can also change the style cycle using the\n",
      "    'axes.prop_cycle' rcParam.\n",
      "    \n",
      "    \n",
      "    Parameters\n",
      "    ----------\n",
      "    x, y : array-like or scalar\n",
      "        The horizontal / vertical coordinates of the data points.\n",
      "        *x* values are optional and default to `range(len(y))`.\n",
      "    \n",
      "        Commonly, these parameters are 1D arrays.\n",
      "    \n",
      "        They can also be scalars, or two-dimensional (in that case, the\n",
      "        columns represent separate data sets).\n",
      "    \n",
      "        These arguments cannot be passed as keywords.\n",
      "    \n",
      "    fmt : str, optional\n",
      "        A format string, e.g. 'ro' for red circles. See the *Notes*\n",
      "        section for a full description of the format strings.\n",
      "    \n",
      "        Format strings are just an abbreviation for quickly setting\n",
      "        basic line properties. All of these and more can also be\n",
      "        controlled by keyword arguments.\n",
      "    \n",
      "        This argument cannot be passed as keyword.\n",
      "    \n",
      "    data : indexable object, optional\n",
      "        An object with labelled data. If given, provide the label names to\n",
      "        plot in *x* and *y*.\n",
      "    \n",
      "        .. note::\n",
      "            Technically there's a slight ambiguity in calls where the\n",
      "            second label is a valid *fmt*. `plot('n', 'o', data=obj)`\n",
      "            could be `plt(x, y)` or `plt(y, fmt)`. In such cases,\n",
      "            the former interpretation is chosen, but a warning is issued.\n",
      "            You may suppress the warning by adding an empty format string\n",
      "            `plot('n', 'o', '', data=obj)`.\n",
      "    \n",
      "    Other Parameters\n",
      "    ----------------\n",
      "    scalex, scaley : bool, optional, default: True\n",
      "        These parameters determined if the view limits are adapted to\n",
      "        the data limits. The values are passed on to `autoscale_view`.\n",
      "    \n",
      "    **kwargs : `.Line2D` properties, optional\n",
      "        *kwargs* are used to specify properties like a line label (for\n",
      "        auto legends), linewidth, antialiasing, marker face color.\n",
      "        Example::\n",
      "    \n",
      "        >>> plot([1,2,3], [1,2,3], 'go-', label='line 1', linewidth=2)\n",
      "        >>> plot([1,2,3], [1,4,9], 'rs',  label='line 2')\n",
      "    \n",
      "        If you make multiple lines with one plot command, the kwargs\n",
      "        apply to all those lines.\n",
      "    \n",
      "        Here is a list of available `.Line2D` properties:\n",
      "    \n",
      "      agg_filter: a filter function, which takes a (m, n, 3) float array and a dpi value, and returns a (m, n, 3) array\n",
      "      alpha: float\n",
      "      animated: bool\n",
      "      antialiased or aa: bool\n",
      "      clip_box: `.Bbox`\n",
      "      clip_on: bool\n",
      "      clip_path: [(`~matplotlib.path.Path`, `.Transform`) | `.Patch` | None]\n",
      "      color or c: color\n",
      "      contains: callable\n",
      "      dash_capstyle: {'butt', 'round', 'projecting'}\n",
      "      dash_joinstyle: {'miter', 'round', 'bevel'}\n",
      "      dashes: sequence of floats (on/off ink in points) or (None, None)\n",
      "      drawstyle or ds: {'default', 'steps', 'steps-pre', 'steps-mid', 'steps-post'}, default: 'default'\n",
      "      figure: `.Figure`\n",
      "      fillstyle: {'full', 'left', 'right', 'bottom', 'top', 'none'}\n",
      "      gid: str\n",
      "      in_layout: bool\n",
      "      label: object\n",
      "      linestyle or ls: {'-', '--', '-.', ':', '', (offset, on-off-seq), ...}\n",
      "      linewidth or lw: float\n",
      "      marker: marker style\n",
      "      markeredgecolor or mec: color\n",
      "      markeredgewidth or mew: float\n",
      "      markerfacecolor or mfc: color\n",
      "      markerfacecoloralt or mfcalt: color\n",
      "      markersize or ms: float\n",
      "      markevery: None or int or (int, int) or slice or List[int] or float or (float, float)\n",
      "      path_effects: `.AbstractPathEffect`\n",
      "      picker: float or callable[[Artist, Event], Tuple[bool, dict]]\n",
      "      pickradius: float\n",
      "      rasterized: bool or None\n",
      "      sketch_params: (scale: float, length: float, randomness: float)\n",
      "      snap: bool or None\n",
      "      solid_capstyle: {'butt', 'round', 'projecting'}\n",
      "      solid_joinstyle: {'miter', 'round', 'bevel'}\n",
      "      transform: `matplotlib.transforms.Transform`\n",
      "      url: str\n",
      "      visible: bool\n",
      "      xdata: 1D array\n",
      "      ydata: 1D array\n",
      "      zorder: float\n",
      "    \n",
      "    Returns\n",
      "    -------\n",
      "    lines\n",
      "        A list of `.Line2D` objects representing the plotted data.\n",
      "    \n",
      "    See Also\n",
      "    --------\n",
      "    scatter : XY scatter plot with markers of varying size and/or color (\n",
      "        sometimes also called bubble chart).\n",
      "    \n",
      "    Notes\n",
      "    -----\n",
      "    **Format Strings**\n",
      "    \n",
      "    A format string consists of a part for color, marker and line::\n",
      "    \n",
      "        fmt = '[marker][line][color]'\n",
      "    \n",
      "    Each of them is optional. If not provided, the value from the style\n",
      "    cycle is used. Exception: If ``line`` is given, but no ``marker``,\n",
      "    the data will be a line without markers.\n",
      "    \n",
      "    Other combinations such as ``[color][marker][line]`` are also\n",
      "    supported, but note that their parsing may be ambiguous.\n",
      "    \n",
      "    **Markers**\n",
      "    \n",
      "    =============    ===============================\n",
      "    character        description\n",
      "    =============    ===============================\n",
      "    ``'.'``          point marker\n",
      "    ``','``          pixel marker\n",
      "    ``'o'``          circle marker\n",
      "    ``'v'``          triangle_down marker\n",
      "    ``'^'``          triangle_up marker\n",
      "    ``'<'``          triangle_left marker\n",
      "    ``'>'``          triangle_right marker\n",
      "    ``'1'``          tri_down marker\n",
      "    ``'2'``          tri_up marker\n",
      "    ``'3'``          tri_left marker\n",
      "    ``'4'``          tri_right marker\n",
      "    ``'s'``          square marker\n",
      "    ``'p'``          pentagon marker\n",
      "    ``'*'``          star marker\n",
      "    ``'h'``          hexagon1 marker\n",
      "    ``'H'``          hexagon2 marker\n",
      "    ``'+'``          plus marker\n",
      "    ``'x'``          x marker\n",
      "    ``'D'``          diamond marker\n",
      "    ``'d'``          thin_diamond marker\n",
      "    ``'|'``          vline marker\n",
      "    ``'_'``          hline marker\n",
      "    =============    ===============================\n",
      "    \n",
      "    **Line Styles**\n",
      "    \n",
      "    =============    ===============================\n",
      "    character        description\n",
      "    =============    ===============================\n",
      "    ``'-'``          solid line style\n",
      "    ``'--'``         dashed line style\n",
      "    ``'-.'``         dash-dot line style\n",
      "    ``':'``          dotted line style\n",
      "    =============    ===============================\n",
      "    \n",
      "    Example format strings::\n",
      "    \n",
      "        'b'    # blue markers with default shape\n",
      "        'or'   # red circles\n",
      "        '-g'   # green solid line\n",
      "        '--'   # dashed line with default color\n",
      "        '^k:'  # black triangle_up markers connected by a dotted line\n",
      "    \n",
      "    **Colors**\n",
      "    \n",
      "    The supported color abbreviations are the single letter codes\n",
      "    \n",
      "    =============    ===============================\n",
      "    character        color\n",
      "    =============    ===============================\n",
      "    ``'b'``          blue\n",
      "    ``'g'``          green\n",
      "    ``'r'``          red\n",
      "    ``'c'``          cyan\n",
      "    ``'m'``          magenta\n",
      "    ``'y'``          yellow\n",
      "    ``'k'``          black\n",
      "    ``'w'``          white\n",
      "    =============    ===============================\n",
      "    \n",
      "    and the ``'CN'`` colors that index into the default property cycle.\n",
      "    \n",
      "    If the color is the only part of the format string, you can\n",
      "    additionally use any  `matplotlib.colors` spec, e.g. full names\n",
      "    (``'green'``) or hex strings (``'#008000'``).\n",
      "\n"
     ]
    }
   ],
   "source": [
    "help(plt.plot)"
   ]
  },
  {
   "cell_type": "markdown",
   "metadata": {},
   "source": [
    "## 构建模型"
   ]
  },
  {
   "cell_type": "markdown",
   "metadata": {},
   "source": [
    "### 定义x和y的占位符"
   ]
  },
  {
   "cell_type": "code",
   "execution_count": 10,
   "metadata": {},
   "outputs": [],
   "source": [
    "# 定义训练数据的占位符， x是特征值， y是标签值\n",
    "x = tf.placeholder(\"float\", name=\"x\")\n",
    "y = tf.placeholder(\"float\", name=\"y\")\n"
   ]
  },
  {
   "cell_type": "markdown",
   "metadata": {},
   "source": [
    "### 构建回归模型"
   ]
  },
  {
   "cell_type": "code",
   "execution_count": 11,
   "metadata": {},
   "outputs": [],
   "source": [
    "def model(x, w, b):\n",
    "    return tf.multiply(x, w) + b"
   ]
  },
  {
   "cell_type": "markdown",
   "metadata": {},
   "source": [
    "### 创建变量\n",
    " \n",
    " Tensorflow变量声明的函数是tf.Variable  \n",
    " tf.Variable的作用是保存和更新参数  \n",
    " 变量的初值可以是随机数、常数，或是通过其他变量的初始值计算得到的"
   ]
  },
  {
   "cell_type": "code",
   "execution_count": 12,
   "metadata": {},
   "outputs": [],
   "source": [
    "# 构建线性函数的斜率，变量w\n",
    "w = tf.Variable(1.0, name=\"w0\")\n",
    "\n",
    "# 构建线性函数的截距，变量b\n",
    "b = tf.Variable(0.0, name=\"b0\")"
   ]
  },
  {
   "cell_type": "code",
   "execution_count": 13,
   "metadata": {},
   "outputs": [],
   "source": [
    "# pred是预测值，前向计算\n",
    "pred = model(x, w, b)"
   ]
  },
  {
   "cell_type": "markdown",
   "metadata": {},
   "source": [
    "## 训练模型\n",
    "\n",
    "### 设置训练参数"
   ]
  },
  {
   "cell_type": "code",
   "execution_count": 23,
   "metadata": {},
   "outputs": [],
   "source": [
    "# 迭代次数（训练轮数)\n",
    "train_epochs = 10\n",
    "\n",
    "# 学习率\n",
    "learning_rate = 0.05\n",
    "\n",
    "# 控制显示loss值的粒度\n",
    "display_step = 10"
   ]
  },
  {
   "cell_type": "markdown",
   "metadata": {},
   "source": [
    "### 关于学习率（learning_rate）的设置"
   ]
  },
  {
   "cell_type": "markdown",
   "metadata": {},
   "source": [
    "学习率的作用：控制参数更新的幅度  \n",
    "如果学习率设置过大，可能导致参数在极值附近来回摇摆，无法保证收敛  \n",
    "如果学习率设置过小，虽然能保证收敛，但是优化速度会大大降低，我们需要更多迭代次数才能达到较理想的优化效果。"
   ]
  },
  {
   "cell_type": "markdown",
   "metadata": {},
   "source": [
    "### 定义损失函数\n",
    "损失函数用于描述预测值与真实值之间的误差，从而指导模型收敛方向  \n",
    "常见损失函数：均方差（Mean Square Error，MSE）和交叉熵（cross-entropy）"
   ]
  },
  {
   "cell_type": "code",
   "execution_count": 15,
   "metadata": {},
   "outputs": [],
   "source": [
    "# 采用均方差作为损失函数\n",
    "\n",
    "loss_function = tf.reduce_mean(tf.square(y-pred))"
   ]
  },
  {
   "cell_type": "markdown",
   "metadata": {},
   "source": [
    "### 选择优化器\n",
    "定义优化器Optimizer，初始化一个GradientDescentOptimizer"
   ]
  },
  {
   "cell_type": "code",
   "execution_count": 16,
   "metadata": {},
   "outputs": [],
   "source": [
    "# 梯度下降优化器\n",
    "\n",
    "optimizer = tf.train.GradientDescentOptimizer(learning_rate).minimize(loss_function)"
   ]
  },
  {
   "cell_type": "markdown",
   "metadata": {},
   "source": [
    "### 声明会话"
   ]
  },
  {
   "cell_type": "code",
   "execution_count": 17,
   "metadata": {},
   "outputs": [],
   "source": [
    "sess = tf.Session()"
   ]
  },
  {
   "cell_type": "markdown",
   "metadata": {},
   "source": [
    "### 变量初始化\n",
    "在真正执行计算之前，需将所有变量初始化  \n",
    "通过tf.global_variables_initializer函数可实现对所有变量的初始化"
   ]
  },
  {
   "cell_type": "code",
   "execution_count": 18,
   "metadata": {},
   "outputs": [],
   "source": [
    "init = tf.global_variables_initializer()\n",
    "\n",
    "sess.run(init)"
   ]
  },
  {
   "cell_type": "markdown",
   "metadata": {},
   "source": [
    "### 执行训练\n",
    "### 显示损失值"
   ]
  },
  {
   "cell_type": "code",
   "execution_count": 19,
   "metadata": {},
   "outputs": [
    {
     "name": "stdout",
     "output_type": "stream",
     "text": [
      "Train Epoch: 01 Step: 010 loss =  0.053888980\n",
      "Train Epoch: 01 Step: 020 loss =  0.000218245\n",
      "Train Epoch: 01 Step: 030 loss =  0.019443041\n",
      "Train Epoch: 01 Step: 040 loss =  0.589532554\n",
      "Train Epoch: 01 Step: 050 loss =  0.000989183\n",
      "Train Epoch: 01 Step: 060 loss =  0.142488658\n",
      "Train Epoch: 01 Step: 070 loss =  0.046271212\n",
      "Train Epoch: 01 Step: 080 loss =  0.008660123\n",
      "Train Epoch: 01 Step: 090 loss =  0.241159379\n",
      "Train Epoch: 01 Step: 100 loss =  0.000514947\n",
      "Train Epoch: 02 Step: 110 loss =  0.317517459\n",
      "Train Epoch: 02 Step: 120 loss =  0.032397330\n",
      "Train Epoch: 02 Step: 130 loss =  0.093368128\n",
      "Train Epoch: 02 Step: 140 loss =  0.332103789\n",
      "Train Epoch: 02 Step: 150 loss =  0.060521714\n",
      "Train Epoch: 02 Step: 160 loss =  0.024084859\n",
      "Train Epoch: 02 Step: 170 loss =  0.178793266\n",
      "Train Epoch: 02 Step: 180 loss =  0.006461896\n",
      "Train Epoch: 02 Step: 190 loss =  0.129687995\n",
      "Train Epoch: 02 Step: 200 loss =  0.013333416\n",
      "Train Epoch: 03 Step: 210 loss =  0.129900724\n",
      "Train Epoch: 03 Step: 220 loss =  0.023582600\n",
      "Train Epoch: 03 Step: 230 loss =  0.096030191\n",
      "Train Epoch: 03 Step: 240 loss =  0.317024857\n",
      "Train Epoch: 03 Step: 250 loss =  0.069221057\n",
      "Train Epoch: 03 Step: 260 loss =  0.018716505\n",
      "Train Epoch: 03 Step: 270 loss =  0.193809599\n",
      "Train Epoch: 03 Step: 280 loss =  0.009021518\n",
      "Train Epoch: 03 Step: 290 loss =  0.121858403\n",
      "Train Epoch: 03 Step: 300 loss =  0.015201909\n",
      "Train Epoch: 04 Step: 310 loss =  0.117845014\n",
      "Train Epoch: 04 Step: 320 loss =  0.022902815\n",
      "Train Epoch: 04 Step: 330 loss =  0.096256405\n",
      "Train Epoch: 04 Step: 340 loss =  0.315768689\n",
      "Train Epoch: 04 Step: 350 loss =  0.069981642\n",
      "Train Epoch: 04 Step: 360 loss =  0.018294554\n",
      "Train Epoch: 04 Step: 370 loss =  0.195104137\n",
      "Train Epoch: 04 Step: 380 loss =  0.009256961\n",
      "Train Epoch: 04 Step: 390 loss =  0.121209100\n",
      "Train Epoch: 04 Step: 400 loss =  0.015365199\n",
      "Train Epoch: 05 Step: 410 loss =  0.116854727\n",
      "Train Epoch: 05 Step: 420 loss =  0.022845931\n",
      "Train Epoch: 05 Step: 430 loss =  0.096275523\n",
      "Train Epoch: 05 Step: 440 loss =  0.315662980\n",
      "Train Epoch: 05 Step: 450 loss =  0.070045985\n",
      "Train Epoch: 05 Step: 460 loss =  0.018259227\n",
      "Train Epoch: 05 Step: 470 loss =  0.195213363\n",
      "Train Epoch: 05 Step: 480 loss =  0.009276883\n",
      "Train Epoch: 05 Step: 490 loss =  0.121154651\n",
      "Train Epoch: 05 Step: 500 loss =  0.015378974\n",
      "Train Epoch: 06 Step: 510 loss =  0.116771445\n",
      "Train Epoch: 06 Step: 520 loss =  0.022841139\n",
      "Train Epoch: 06 Step: 530 loss =  0.096277155\n",
      "Train Epoch: 06 Step: 540 loss =  0.315654010\n",
      "Train Epoch: 06 Step: 550 loss =  0.070051350\n",
      "Train Epoch: 06 Step: 560 loss =  0.018256264\n",
      "Train Epoch: 06 Step: 570 loss =  0.195222735\n",
      "Train Epoch: 06 Step: 580 loss =  0.009278628\n",
      "Train Epoch: 06 Step: 590 loss =  0.121149838\n",
      "Train Epoch: 06 Step: 600 loss =  0.015380217\n",
      "Train Epoch: 07 Step: 610 loss =  0.116764441\n",
      "Train Epoch: 07 Step: 620 loss =  0.022840742\n",
      "Train Epoch: 07 Step: 630 loss =  0.096277267\n",
      "Train Epoch: 07 Step: 640 loss =  0.315653324\n",
      "Train Epoch: 07 Step: 650 loss =  0.070051797\n",
      "Train Epoch: 07 Step: 660 loss =  0.018256038\n",
      "Train Epoch: 07 Step: 670 loss =  0.195223376\n",
      "Train Epoch: 07 Step: 680 loss =  0.009278720\n",
      "Train Epoch: 07 Step: 690 loss =  0.121149674\n",
      "Train Epoch: 07 Step: 700 loss =  0.015380275\n",
      "Train Epoch: 08 Step: 710 loss =  0.116763875\n",
      "Train Epoch: 08 Step: 720 loss =  0.022840688\n",
      "Train Epoch: 08 Step: 730 loss =  0.096277334\n",
      "Train Epoch: 08 Step: 740 loss =  0.315653145\n",
      "Train Epoch: 08 Step: 750 loss =  0.070051856\n",
      "Train Epoch: 08 Step: 760 loss =  0.018255942\n",
      "Train Epoch: 08 Step: 770 loss =  0.195223376\n",
      "Train Epoch: 08 Step: 780 loss =  0.009278720\n",
      "Train Epoch: 08 Step: 790 loss =  0.121149503\n",
      "Train Epoch: 08 Step: 800 loss =  0.015380275\n",
      "Train Epoch: 09 Step: 810 loss =  0.116763793\n",
      "Train Epoch: 09 Step: 820 loss =  0.022840688\n",
      "Train Epoch: 09 Step: 830 loss =  0.096277334\n",
      "Train Epoch: 09 Step: 840 loss =  0.315653145\n",
      "Train Epoch: 09 Step: 850 loss =  0.070051923\n",
      "Train Epoch: 09 Step: 860 loss =  0.018255910\n",
      "Train Epoch: 09 Step: 870 loss =  0.195223585\n",
      "Train Epoch: 09 Step: 880 loss =  0.009278766\n",
      "Train Epoch: 09 Step: 890 loss =  0.121149339\n",
      "Train Epoch: 09 Step: 900 loss =  0.015380275\n",
      "Train Epoch: 10 Step: 910 loss =  0.116763711\n",
      "Train Epoch: 10 Step: 920 loss =  0.022840671\n",
      "Train Epoch: 10 Step: 930 loss =  0.096277304\n",
      "Train Epoch: 10 Step: 940 loss =  0.315653145\n",
      "Train Epoch: 10 Step: 950 loss =  0.070051856\n",
      "Train Epoch: 10 Step: 960 loss =  0.018255973\n",
      "Train Epoch: 10 Step: 970 loss =  0.195223376\n",
      "Train Epoch: 10 Step: 980 loss =  0.009278720\n",
      "Train Epoch: 10 Step: 990 loss =  0.121149503\n",
      "Train Epoch: 10 Step: 1000 loss =  0.015380275\n"
     ]
    },
    {
     "data": {
      "image/png": "[encoded data removed]",
      "text/plain": [
       "<Figure size 432x288 with 1 Axes>"
      ]
     },
     "metadata": {
      "needs_background": "light"
     },
     "output_type": "display_data"
    }
   ],
   "source": [
    "# 开始训练，轮数为epoch，采用SGD随机梯度下降优化方法\n",
    "step = 0 # 记录训练步数\n",
    "loss_list = [] # 用于保存loss值的列表\n",
    "\n",
    "for epoch in range(train_epochs):\n",
    "    for xs, ys in zip(x_data, y_data):\n",
    "        _, loss = sess.run([optimizer, loss_function], feed_dict={x:xs, y:ys})\n",
    "        \n",
    "        # 显示损失值 loss\n",
    "        # display_step：控制报告的粒度\n",
    "        # 例如，如果display_step设为2， 则将每训练2个样本输出一次损失值\n",
    "        # 与超参数不同，修改display_step不会更改模型所学习的规律\n",
    "        loss_list.append(loss)\n",
    "        step = step+1\n",
    "        if step % display_step == 0:\n",
    "            print(\"Train Epoch:\", \"%02d\" % (epoch+1), \"Step: %03d\" %(step), \"loss = \", \"{:.9f}\".format(loss))\n",
    "    b0temp = b.eval(session=sess)\n",
    "    w0temp = w.eval(session=sess)\n",
    "    plt.plot(x_data, w0temp * x_data + b0temp) # 画图"
   ]
  },
  {
   "cell_type": "markdown",
   "metadata": {},
   "source": [
    "从上图可以看出，由于本案例所拟合的模型较简单，训练3次之后已经接近收敛。  \n",
    "对于复杂模型，需要更多次训练才能收敛。  \n"
   ]
  },
  {
   "cell_type": "code",
   "execution_count": 24,
   "metadata": {},
   "outputs": [
    {
     "data": {
      "text/plain": [
       "[<matplotlib.lines.Line2D at 0x1382d6a10>]"
      ]
     },
     "execution_count": 24,
     "metadata": {},
     "output_type": "execute_result"
    },
    {
     "data": {
      "image/png": "[encoded data removed]",
      "text/plain": [
       "<Figure size 432x288 with 1 Axes>"
      ]
     },
     "metadata": {
      "needs_background": "light"
     },
     "output_type": "display_data"
    }
   ],
   "source": [
    "plt.plot(loss_list)"
   ]
  },
  {
   "cell_type": "code",
   "execution_count": 25,
   "metadata": {},
   "outputs": [
    {
     "data": {
      "text/plain": [
       "[<matplotlib.lines.Line2D at 0x138416810>]"
      ]
     },
     "execution_count": 25,
     "metadata": {},
     "output_type": "execute_result"
    },
    {
     "data": {
      "image/png": "[encoded data removed]",
      "text/plain": [
       "<Figure size 432x288 with 1 Axes>"
      ]
     },
     "metadata": {
      "needs_background": "light"
     },
     "output_type": "display_data"
    }
   ],
   "source": [
    "plt.plot(loss_list, \"r+\")"
   ]
  },
  {
   "cell_type": "code",
   "execution_count": 26,
   "metadata": {},
   "outputs": [
    {
     "data": {
      "text/plain": [
       "[1.4533501,\n",
       " 1.3507473,\n",
       " 1.7046989,\n",
       " 2.2887022,\n",
       " 1.7251762,\n",
       " 1.9852284,\n",
       " 1.1750387,\n",
       " 1.7792182,\n",
       " 1.1360258,\n",
       " 1.7623546,\n",
       " 1.132765,\n",
       " 1.7609351,\n",
       " 1.1324903,\n",
       " 1.7608157,\n",
       " 1.1324672,\n",
       " 1.7608054,\n",
       " 1.1324654,\n",
       " 1.7608048,\n",
       " 1.1324649,\n",
       " 1.7608048,\n",
       " 1.1324646,\n",
       " 1.7608044,\n",
       " 1.1324649]"
      ]
     },
     "execution_count": 26,
     "metadata": {},
     "output_type": "execute_result"
    }
   ],
   "source": [
    "[x for x in loss_list if x>1]"
   ]
  },
  {
   "cell_type": "markdown",
   "metadata": {},
   "source": [
    "### 打印结果"
   ]
  },
  {
   "cell_type": "code",
   "execution_count": 20,
   "metadata": {},
   "outputs": [
    {
     "name": "stdout",
     "output_type": "stream",
     "text": [
      "w:  1.9070293\n",
      "b:  1.0205086\n"
     ]
    }
   ],
   "source": [
    "print(\"w: \", sess.run(w)) # w的值应该在2附近\n",
    "print(\"b: \", sess.run(b)) # b的值应该在1附近"
   ]
  },
  {
   "cell_type": "markdown",
   "metadata": {},
   "source": [
    "### 可视化"
   ]
  },
  {
   "cell_type": "code",
   "execution_count": 21,
   "metadata": {},
   "outputs": [
    {
     "data": {
      "text/plain": [
       "[<matplotlib.lines.Line2D at 0x13815c350>]"
      ]
     },
     "execution_count": 21,
     "metadata": {},
     "output_type": "execute_result"
    },
    {
     "data": {
      "image/png": "[encoded data removed]",
      "text/plain": [
       "<Figure size 432x288 with 1 Axes>"
      ]
     },
     "metadata": {
      "needs_background": "light"
     },
     "output_type": "display_data"
    }
   ],
   "source": [
    "plt.scatter(x_data, y_data, label=\"Original data\")\n",
    "plt.plot(x_data, x_data * sess.run(w) + sess.run(b), \\\n",
    "        label=\"Fitted line\", color='r', linewidth=3)"
   ]
  },
  {
   "cell_type": "markdown",
   "metadata": {},
   "source": [
    "## 进行预测"
   ]
  },
  {
   "cell_type": "code",
   "execution_count": 22,
   "metadata": {},
   "outputs": [
    {
     "name": "stdout",
     "output_type": "stream",
     "text": [
      "预测值：7.142073\n",
      "目标值：7.420000\n"
     ]
    }
   ],
   "source": [
    "x_test = 3.21\n",
    "\n",
    "predict = sess.run(pred, feed_dict={x:x_test})\n",
    "\n",
    "print(\"预测值：%f\" % predict)\n",
    "\n",
    "target = 2* x_test +1.0\n",
    "print(\"目标值：%f\"% target)"
   ]
  },
  {
   "cell_type": "markdown",
   "metadata": {},
   "source": [
    "### 以上是利用tensorflow训练一个线性模型并进行预测的完整过程。  \n",
    "### 通过逐渐降低loss来训练参数w和b拟合 y=2x+1 中的系数2和1"
   ]
  },
  {
   "cell_type": "code",
   "execution_count": null,
   "metadata": {},
   "outputs": [],
   "source": []
  }
 ],
 "metadata": {
  "kernelspec": {
   "display_name": "Python 3",
   "language": "python",
   "name": "python3"
  },
  "language_info": {
   "codemirror_mode": {
    "name": "ipython",
    "version": 3
   },
   "file_extension": ".py",
   "mimetype": "text/x-python",
   "name": "python",
   "nbconvert_exporter": "python",
   "pygments_lexer": "ipython3",
   "version": "3.7.4"
  }
 },
 "nbformat": 4,
 "nbformat_minor": 2
}
